{
 "cells": [
  {
   "cell_type": "code",
   "execution_count": 1,
   "metadata": {
    "scrolled": true
   },
   "outputs": [],
   "source": [
    "import pandas as pd\n",
    "import numpy as np\n",
    "import texthero as hero\n",
    "import nltk\n",
    "from collections import Counter\n",
    "from texthero import preprocessing"
   ]
  },
  {
   "cell_type": "code",
   "execution_count": 2,
   "metadata": {
    "scrolled": false
   },
   "outputs": [
    {
     "data": {
      "text/html": [
       "<div>\n",
       "<style scoped>\n",
       "    .dataframe tbody tr th:only-of-type {\n",
       "        vertical-align: middle;\n",
       "    }\n",
       "\n",
       "    .dataframe tbody tr th {\n",
       "        vertical-align: top;\n",
       "    }\n",
       "\n",
       "    .dataframe thead th {\n",
       "        text-align: right;\n",
       "    }\n",
       "</style>\n",
       "<table border=\"1\" class=\"dataframe\">\n",
       "  <thead>\n",
       "    <tr style=\"text-align: right;\">\n",
       "      <th></th>\n",
       "      <th>ID</th>\n",
       "      <th>Title</th>\n",
       "      <th>URL</th>\n",
       "      <th>Publisher</th>\n",
       "      <th>Category</th>\n",
       "      <th>Story</th>\n",
       "      <th>Hostname</th>\n",
       "      <th>Timestamp</th>\n",
       "    </tr>\n",
       "  </thead>\n",
       "  <tbody>\n",
       "    <tr>\n",
       "      <th>0</th>\n",
       "      <td>1</td>\n",
       "      <td>Fed official says weak data caused by weather,...</td>\n",
       "      <td>http://www.latimes.com/business/money/la-fi-mo...</td>\n",
       "      <td>Los Angeles Times</td>\n",
       "      <td>b</td>\n",
       "      <td>ddUyU0VZz0BRneMioxUPQVP6sIxvM</td>\n",
       "      <td>www.latimes.com</td>\n",
       "      <td>1394470370698</td>\n",
       "    </tr>\n",
       "    <tr>\n",
       "      <th>1</th>\n",
       "      <td>2</td>\n",
       "      <td>Fed's Charles Plosser sees high bar for change...</td>\n",
       "      <td>http://www.livemint.com/Politics/H2EvwJSK2VE6O...</td>\n",
       "      <td>Livemint</td>\n",
       "      <td>b</td>\n",
       "      <td>ddUyU0VZz0BRneMioxUPQVP6sIxvM</td>\n",
       "      <td>www.livemint.com</td>\n",
       "      <td>1394470371207</td>\n",
       "    </tr>\n",
       "    <tr>\n",
       "      <th>2</th>\n",
       "      <td>3</td>\n",
       "      <td>US open: Stocks fall after Fed official hints ...</td>\n",
       "      <td>http://www.ifamagazine.com/news/us-open-stocks...</td>\n",
       "      <td>IFA Magazine</td>\n",
       "      <td>b</td>\n",
       "      <td>ddUyU0VZz0BRneMioxUPQVP6sIxvM</td>\n",
       "      <td>www.ifamagazine.com</td>\n",
       "      <td>1394470371550</td>\n",
       "    </tr>\n",
       "    <tr>\n",
       "      <th>3</th>\n",
       "      <td>4</td>\n",
       "      <td>Fed risks falling 'behind the curve', Charles ...</td>\n",
       "      <td>http://www.ifamagazine.com/news/fed-risks-fall...</td>\n",
       "      <td>IFA Magazine</td>\n",
       "      <td>b</td>\n",
       "      <td>ddUyU0VZz0BRneMioxUPQVP6sIxvM</td>\n",
       "      <td>www.ifamagazine.com</td>\n",
       "      <td>1394470371793</td>\n",
       "    </tr>\n",
       "    <tr>\n",
       "      <th>4</th>\n",
       "      <td>5</td>\n",
       "      <td>Fed's Plosser: Nasty Weather Has Curbed Job Gr...</td>\n",
       "      <td>http://www.moneynews.com/Economy/federal-reser...</td>\n",
       "      <td>Moneynews</td>\n",
       "      <td>b</td>\n",
       "      <td>ddUyU0VZz0BRneMioxUPQVP6sIxvM</td>\n",
       "      <td>www.moneynews.com</td>\n",
       "      <td>1394470372027</td>\n",
       "    </tr>\n",
       "    <tr>\n",
       "      <th>...</th>\n",
       "      <td>...</td>\n",
       "      <td>...</td>\n",
       "      <td>...</td>\n",
       "      <td>...</td>\n",
       "      <td>...</td>\n",
       "      <td>...</td>\n",
       "      <td>...</td>\n",
       "      <td>...</td>\n",
       "    </tr>\n",
       "    <tr>\n",
       "      <th>422414</th>\n",
       "      <td>422933</td>\n",
       "      <td>Surgeons to remove 4-year-old's rib to rebuild...</td>\n",
       "      <td>http://www.cbs3springfield.com/story/26378648/...</td>\n",
       "      <td>WSHM-TV</td>\n",
       "      <td>m</td>\n",
       "      <td>dpcLMoJD69UYMXMxaoEFnWql9YjQM</td>\n",
       "      <td>www.cbs3springfield.com</td>\n",
       "      <td>1409229190251</td>\n",
       "    </tr>\n",
       "    <tr>\n",
       "      <th>422415</th>\n",
       "      <td>422934</td>\n",
       "      <td>Boy to have surgery on esophagus after battery...</td>\n",
       "      <td>http://www.wlwt.com/news/boy-to-have-surgery-o...</td>\n",
       "      <td>WLWT Cincinnati</td>\n",
       "      <td>m</td>\n",
       "      <td>dpcLMoJD69UYMXMxaoEFnWql9YjQM</td>\n",
       "      <td>www.wlwt.com</td>\n",
       "      <td>1409229190508</td>\n",
       "    </tr>\n",
       "    <tr>\n",
       "      <th>422416</th>\n",
       "      <td>422935</td>\n",
       "      <td>Child who swallowed battery to have reconstruc...</td>\n",
       "      <td>http://www.newsnet5.com/news/local-news/child-...</td>\n",
       "      <td>NewsNet5.com</td>\n",
       "      <td>m</td>\n",
       "      <td>dpcLMoJD69UYMXMxaoEFnWql9YjQM</td>\n",
       "      <td>www.newsnet5.com</td>\n",
       "      <td>1409229190771</td>\n",
       "    </tr>\n",
       "    <tr>\n",
       "      <th>422417</th>\n",
       "      <td>422936</td>\n",
       "      <td>Phoenix boy undergoes surgery to repair throat...</td>\n",
       "      <td>http://www.wfsb.com/story/26368078/phoenix-boy...</td>\n",
       "      <td>WFSB</td>\n",
       "      <td>m</td>\n",
       "      <td>dpcLMoJD69UYMXMxaoEFnWql9YjQM</td>\n",
       "      <td>www.wfsb.com</td>\n",
       "      <td>1409229191071</td>\n",
       "    </tr>\n",
       "    <tr>\n",
       "      <th>422418</th>\n",
       "      <td>422937</td>\n",
       "      <td>Phoenix boy undergoes surgery to repair throat...</td>\n",
       "      <td>http://www.cbs3springfield.com/story/26368078/...</td>\n",
       "      <td>WSHM-TV</td>\n",
       "      <td>m</td>\n",
       "      <td>dpcLMoJD69UYMXMxaoEFnWql9YjQM</td>\n",
       "      <td>www.cbs3springfield.com</td>\n",
       "      <td>1409229191565</td>\n",
       "    </tr>\n",
       "  </tbody>\n",
       "</table>\n",
       "<p>422419 rows × 8 columns</p>\n",
       "</div>"
      ],
      "text/plain": [
       "            ID                                              Title  \\\n",
       "0            1  Fed official says weak data caused by weather,...   \n",
       "1            2  Fed's Charles Plosser sees high bar for change...   \n",
       "2            3  US open: Stocks fall after Fed official hints ...   \n",
       "3            4  Fed risks falling 'behind the curve', Charles ...   \n",
       "4            5  Fed's Plosser: Nasty Weather Has Curbed Job Gr...   \n",
       "...        ...                                                ...   \n",
       "422414  422933  Surgeons to remove 4-year-old's rib to rebuild...   \n",
       "422415  422934  Boy to have surgery on esophagus after battery...   \n",
       "422416  422935  Child who swallowed battery to have reconstruc...   \n",
       "422417  422936  Phoenix boy undergoes surgery to repair throat...   \n",
       "422418  422937  Phoenix boy undergoes surgery to repair throat...   \n",
       "\n",
       "                                                      URL          Publisher  \\\n",
       "0       http://www.latimes.com/business/money/la-fi-mo...  Los Angeles Times   \n",
       "1       http://www.livemint.com/Politics/H2EvwJSK2VE6O...           Livemint   \n",
       "2       http://www.ifamagazine.com/news/us-open-stocks...       IFA Magazine   \n",
       "3       http://www.ifamagazine.com/news/fed-risks-fall...       IFA Magazine   \n",
       "4       http://www.moneynews.com/Economy/federal-reser...          Moneynews   \n",
       "...                                                   ...                ...   \n",
       "422414  http://www.cbs3springfield.com/story/26378648/...            WSHM-TV   \n",
       "422415  http://www.wlwt.com/news/boy-to-have-surgery-o...    WLWT Cincinnati   \n",
       "422416  http://www.newsnet5.com/news/local-news/child-...       NewsNet5.com   \n",
       "422417  http://www.wfsb.com/story/26368078/phoenix-boy...               WFSB   \n",
       "422418  http://www.cbs3springfield.com/story/26368078/...            WSHM-TV   \n",
       "\n",
       "       Category                          Story                 Hostname  \\\n",
       "0             b  ddUyU0VZz0BRneMioxUPQVP6sIxvM          www.latimes.com   \n",
       "1             b  ddUyU0VZz0BRneMioxUPQVP6sIxvM         www.livemint.com   \n",
       "2             b  ddUyU0VZz0BRneMioxUPQVP6sIxvM      www.ifamagazine.com   \n",
       "3             b  ddUyU0VZz0BRneMioxUPQVP6sIxvM      www.ifamagazine.com   \n",
       "4             b  ddUyU0VZz0BRneMioxUPQVP6sIxvM        www.moneynews.com   \n",
       "...         ...                            ...                      ...   \n",
       "422414        m  dpcLMoJD69UYMXMxaoEFnWql9YjQM  www.cbs3springfield.com   \n",
       "422415        m  dpcLMoJD69UYMXMxaoEFnWql9YjQM             www.wlwt.com   \n",
       "422416        m  dpcLMoJD69UYMXMxaoEFnWql9YjQM         www.newsnet5.com   \n",
       "422417        m  dpcLMoJD69UYMXMxaoEFnWql9YjQM             www.wfsb.com   \n",
       "422418        m  dpcLMoJD69UYMXMxaoEFnWql9YjQM  www.cbs3springfield.com   \n",
       "\n",
       "            Timestamp  \n",
       "0       1394470370698  \n",
       "1       1394470371207  \n",
       "2       1394470371550  \n",
       "3       1394470371793  \n",
       "4       1394470372027  \n",
       "...               ...  \n",
       "422414  1409229190251  \n",
       "422415  1409229190508  \n",
       "422416  1409229190771  \n",
       "422417  1409229191071  \n",
       "422418  1409229191565  \n",
       "\n",
       "[422419 rows x 8 columns]"
      ]
     },
     "execution_count": 2,
     "metadata": {},
     "output_type": "execute_result"
    }
   ],
   "source": [
    "column_names = [\"ID\", \"Title\", \"URL\", \"Publisher\", \"Category\", \"Story\", \"Hostname\", \"Timestamp\"]\n",
    "df = pd.read_csv(r\"C:\\Users\\keker_keker\\Desktop\\NewsAggregatorDataset\\newsCorpora.csv\", sep=\"\\t\", names=column_names)\n",
    "df"
   ]
  },
  {
   "cell_type": "markdown",
   "metadata": {},
   "source": [
    "###### Dropping ID column"
   ]
  },
  {
   "cell_type": "code",
   "execution_count": 3,
   "metadata": {
    "scrolled": true
   },
   "outputs": [
    {
     "data": {
      "text/html": [
       "<div>\n",
       "<style scoped>\n",
       "    .dataframe tbody tr th:only-of-type {\n",
       "        vertical-align: middle;\n",
       "    }\n",
       "\n",
       "    .dataframe tbody tr th {\n",
       "        vertical-align: top;\n",
       "    }\n",
       "\n",
       "    .dataframe thead th {\n",
       "        text-align: right;\n",
       "    }\n",
       "</style>\n",
       "<table border=\"1\" class=\"dataframe\">\n",
       "  <thead>\n",
       "    <tr style=\"text-align: right;\">\n",
       "      <th></th>\n",
       "      <th>Title</th>\n",
       "      <th>URL</th>\n",
       "      <th>Publisher</th>\n",
       "      <th>Category</th>\n",
       "      <th>Story</th>\n",
       "      <th>Hostname</th>\n",
       "      <th>Timestamp</th>\n",
       "    </tr>\n",
       "  </thead>\n",
       "  <tbody>\n",
       "    <tr>\n",
       "      <th>0</th>\n",
       "      <td>Fed official says weak data caused by weather,...</td>\n",
       "      <td>http://www.latimes.com/business/money/la-fi-mo...</td>\n",
       "      <td>Los Angeles Times</td>\n",
       "      <td>b</td>\n",
       "      <td>ddUyU0VZz0BRneMioxUPQVP6sIxvM</td>\n",
       "      <td>www.latimes.com</td>\n",
       "      <td>1394470370698</td>\n",
       "    </tr>\n",
       "    <tr>\n",
       "      <th>1</th>\n",
       "      <td>Fed's Charles Plosser sees high bar for change...</td>\n",
       "      <td>http://www.livemint.com/Politics/H2EvwJSK2VE6O...</td>\n",
       "      <td>Livemint</td>\n",
       "      <td>b</td>\n",
       "      <td>ddUyU0VZz0BRneMioxUPQVP6sIxvM</td>\n",
       "      <td>www.livemint.com</td>\n",
       "      <td>1394470371207</td>\n",
       "    </tr>\n",
       "    <tr>\n",
       "      <th>2</th>\n",
       "      <td>US open: Stocks fall after Fed official hints ...</td>\n",
       "      <td>http://www.ifamagazine.com/news/us-open-stocks...</td>\n",
       "      <td>IFA Magazine</td>\n",
       "      <td>b</td>\n",
       "      <td>ddUyU0VZz0BRneMioxUPQVP6sIxvM</td>\n",
       "      <td>www.ifamagazine.com</td>\n",
       "      <td>1394470371550</td>\n",
       "    </tr>\n",
       "    <tr>\n",
       "      <th>3</th>\n",
       "      <td>Fed risks falling 'behind the curve', Charles ...</td>\n",
       "      <td>http://www.ifamagazine.com/news/fed-risks-fall...</td>\n",
       "      <td>IFA Magazine</td>\n",
       "      <td>b</td>\n",
       "      <td>ddUyU0VZz0BRneMioxUPQVP6sIxvM</td>\n",
       "      <td>www.ifamagazine.com</td>\n",
       "      <td>1394470371793</td>\n",
       "    </tr>\n",
       "    <tr>\n",
       "      <th>4</th>\n",
       "      <td>Fed's Plosser: Nasty Weather Has Curbed Job Gr...</td>\n",
       "      <td>http://www.moneynews.com/Economy/federal-reser...</td>\n",
       "      <td>Moneynews</td>\n",
       "      <td>b</td>\n",
       "      <td>ddUyU0VZz0BRneMioxUPQVP6sIxvM</td>\n",
       "      <td>www.moneynews.com</td>\n",
       "      <td>1394470372027</td>\n",
       "    </tr>\n",
       "    <tr>\n",
       "      <th>...</th>\n",
       "      <td>...</td>\n",
       "      <td>...</td>\n",
       "      <td>...</td>\n",
       "      <td>...</td>\n",
       "      <td>...</td>\n",
       "      <td>...</td>\n",
       "      <td>...</td>\n",
       "    </tr>\n",
       "    <tr>\n",
       "      <th>422414</th>\n",
       "      <td>Surgeons to remove 4-year-old's rib to rebuild...</td>\n",
       "      <td>http://www.cbs3springfield.com/story/26378648/...</td>\n",
       "      <td>WSHM-TV</td>\n",
       "      <td>m</td>\n",
       "      <td>dpcLMoJD69UYMXMxaoEFnWql9YjQM</td>\n",
       "      <td>www.cbs3springfield.com</td>\n",
       "      <td>1409229190251</td>\n",
       "    </tr>\n",
       "    <tr>\n",
       "      <th>422415</th>\n",
       "      <td>Boy to have surgery on esophagus after battery...</td>\n",
       "      <td>http://www.wlwt.com/news/boy-to-have-surgery-o...</td>\n",
       "      <td>WLWT Cincinnati</td>\n",
       "      <td>m</td>\n",
       "      <td>dpcLMoJD69UYMXMxaoEFnWql9YjQM</td>\n",
       "      <td>www.wlwt.com</td>\n",
       "      <td>1409229190508</td>\n",
       "    </tr>\n",
       "    <tr>\n",
       "      <th>422416</th>\n",
       "      <td>Child who swallowed battery to have reconstruc...</td>\n",
       "      <td>http://www.newsnet5.com/news/local-news/child-...</td>\n",
       "      <td>NewsNet5.com</td>\n",
       "      <td>m</td>\n",
       "      <td>dpcLMoJD69UYMXMxaoEFnWql9YjQM</td>\n",
       "      <td>www.newsnet5.com</td>\n",
       "      <td>1409229190771</td>\n",
       "    </tr>\n",
       "    <tr>\n",
       "      <th>422417</th>\n",
       "      <td>Phoenix boy undergoes surgery to repair throat...</td>\n",
       "      <td>http://www.wfsb.com/story/26368078/phoenix-boy...</td>\n",
       "      <td>WFSB</td>\n",
       "      <td>m</td>\n",
       "      <td>dpcLMoJD69UYMXMxaoEFnWql9YjQM</td>\n",
       "      <td>www.wfsb.com</td>\n",
       "      <td>1409229191071</td>\n",
       "    </tr>\n",
       "    <tr>\n",
       "      <th>422418</th>\n",
       "      <td>Phoenix boy undergoes surgery to repair throat...</td>\n",
       "      <td>http://www.cbs3springfield.com/story/26368078/...</td>\n",
       "      <td>WSHM-TV</td>\n",
       "      <td>m</td>\n",
       "      <td>dpcLMoJD69UYMXMxaoEFnWql9YjQM</td>\n",
       "      <td>www.cbs3springfield.com</td>\n",
       "      <td>1409229191565</td>\n",
       "    </tr>\n",
       "  </tbody>\n",
       "</table>\n",
       "<p>422419 rows × 7 columns</p>\n",
       "</div>"
      ],
      "text/plain": [
       "                                                    Title  \\\n",
       "0       Fed official says weak data caused by weather,...   \n",
       "1       Fed's Charles Plosser sees high bar for change...   \n",
       "2       US open: Stocks fall after Fed official hints ...   \n",
       "3       Fed risks falling 'behind the curve', Charles ...   \n",
       "4       Fed's Plosser: Nasty Weather Has Curbed Job Gr...   \n",
       "...                                                   ...   \n",
       "422414  Surgeons to remove 4-year-old's rib to rebuild...   \n",
       "422415  Boy to have surgery on esophagus after battery...   \n",
       "422416  Child who swallowed battery to have reconstruc...   \n",
       "422417  Phoenix boy undergoes surgery to repair throat...   \n",
       "422418  Phoenix boy undergoes surgery to repair throat...   \n",
       "\n",
       "                                                      URL          Publisher  \\\n",
       "0       http://www.latimes.com/business/money/la-fi-mo...  Los Angeles Times   \n",
       "1       http://www.livemint.com/Politics/H2EvwJSK2VE6O...           Livemint   \n",
       "2       http://www.ifamagazine.com/news/us-open-stocks...       IFA Magazine   \n",
       "3       http://www.ifamagazine.com/news/fed-risks-fall...       IFA Magazine   \n",
       "4       http://www.moneynews.com/Economy/federal-reser...          Moneynews   \n",
       "...                                                   ...                ...   \n",
       "422414  http://www.cbs3springfield.com/story/26378648/...            WSHM-TV   \n",
       "422415  http://www.wlwt.com/news/boy-to-have-surgery-o...    WLWT Cincinnati   \n",
       "422416  http://www.newsnet5.com/news/local-news/child-...       NewsNet5.com   \n",
       "422417  http://www.wfsb.com/story/26368078/phoenix-boy...               WFSB   \n",
       "422418  http://www.cbs3springfield.com/story/26368078/...            WSHM-TV   \n",
       "\n",
       "       Category                          Story                 Hostname  \\\n",
       "0             b  ddUyU0VZz0BRneMioxUPQVP6sIxvM          www.latimes.com   \n",
       "1             b  ddUyU0VZz0BRneMioxUPQVP6sIxvM         www.livemint.com   \n",
       "2             b  ddUyU0VZz0BRneMioxUPQVP6sIxvM      www.ifamagazine.com   \n",
       "3             b  ddUyU0VZz0BRneMioxUPQVP6sIxvM      www.ifamagazine.com   \n",
       "4             b  ddUyU0VZz0BRneMioxUPQVP6sIxvM        www.moneynews.com   \n",
       "...         ...                            ...                      ...   \n",
       "422414        m  dpcLMoJD69UYMXMxaoEFnWql9YjQM  www.cbs3springfield.com   \n",
       "422415        m  dpcLMoJD69UYMXMxaoEFnWql9YjQM             www.wlwt.com   \n",
       "422416        m  dpcLMoJD69UYMXMxaoEFnWql9YjQM         www.newsnet5.com   \n",
       "422417        m  dpcLMoJD69UYMXMxaoEFnWql9YjQM             www.wfsb.com   \n",
       "422418        m  dpcLMoJD69UYMXMxaoEFnWql9YjQM  www.cbs3springfield.com   \n",
       "\n",
       "            Timestamp  \n",
       "0       1394470370698  \n",
       "1       1394470371207  \n",
       "2       1394470371550  \n",
       "3       1394470371793  \n",
       "4       1394470372027  \n",
       "...               ...  \n",
       "422414  1409229190251  \n",
       "422415  1409229190508  \n",
       "422416  1409229190771  \n",
       "422417  1409229191071  \n",
       "422418  1409229191565  \n",
       "\n",
       "[422419 rows x 7 columns]"
      ]
     },
     "execution_count": 3,
     "metadata": {},
     "output_type": "execute_result"
    }
   ],
   "source": [
    "df = df.drop(columns=['ID'])\n",
    "df"
   ]
  },
  {
   "cell_type": "code",
   "execution_count": 4,
   "metadata": {},
   "outputs": [
    {
     "data": {
      "text/plain": [
       "Title        Fed's Charles Plosser sees high bar for change...\n",
       "URL          http://www.livemint.com/Politics/H2EvwJSK2VE6O...\n",
       "Publisher                                             Livemint\n",
       "Category                                                     b\n",
       "Story                            ddUyU0VZz0BRneMioxUPQVP6sIxvM\n",
       "Hostname                                      www.livemint.com\n",
       "Timestamp                                        1394470371207\n",
       "Name: 1, dtype: object"
      ]
     },
     "execution_count": 4,
     "metadata": {},
     "output_type": "execute_result"
    }
   ],
   "source": [
    "df.iloc[1]"
   ]
  },
  {
   "cell_type": "code",
   "execution_count": 5,
   "metadata": {
    "scrolled": true
   },
   "outputs": [
    {
     "data": {
      "text/plain": [
       "The article requested cannot be found! Please refresh your browser or go back  ...    145\n",
       "Business Highlights                                                                    59\n",
       "Posted by Parvez Jabri                                                                 59\n",
       "Posted by Imaduddin                                                                    53\n",
       "Posted by Shoaib-ur-Rehman Siddiqui                                                    52\n",
       "                                                                                     ... \n",
       "Wall Street Ends Winning Streak on AT&T Results, Factory Data                           1\n",
       "Japan institute finds stem-cell study misconduct                                        1\n",
       "Early Buzz: 'Dawn of the Planet of the Apes' Best Movie of Summer?                      1\n",
       "Pictured: World's largest shopping mall will have its own theme park, 20000  ...        1\n",
       "Get ready for the first eclipse of the year                                             1\n",
       "Name: Title, Length: 406455, dtype: int64"
      ]
     },
     "execution_count": 5,
     "metadata": {},
     "output_type": "execute_result"
    }
   ],
   "source": [
    "df['Title'].value_counts()"
   ]
  },
  {
   "cell_type": "markdown",
   "metadata": {},
   "source": [
    "#### Drop rows with \"The article requested cannot be found! Please refresh your browser or go back\" and rows with missing category"
   ]
  },
  {
   "cell_type": "code",
   "execution_count": 6,
   "metadata": {},
   "outputs": [],
   "source": [
    "filt = df['Title'].str.contains(\"The article requested\")\n",
    "df[filt]\n",
    "df = df.drop(df[filt].index)\n",
    "df = df.dropna().reset_index(drop=True)"
   ]
  },
  {
   "cell_type": "code",
   "execution_count": 7,
   "metadata": {},
   "outputs": [
    {
     "data": {
      "text/plain": [
       "422272"
      ]
     },
     "execution_count": 7,
     "metadata": {},
     "output_type": "execute_result"
    }
   ],
   "source": [
    "len(df)"
   ]
  },
  {
   "cell_type": "code",
   "execution_count": 8,
   "metadata": {},
   "outputs": [
    {
     "data": {
      "text/plain": [
       "Business Highlights                                                           59\n",
       "Posted by Parvez Jabri                                                        59\n",
       "Posted by Imaduddin                                                           53\n",
       "Posted by Shoaib-ur-Rehman Siddiqui                                           52\n",
       "(click the phrases to see a list)                                             51\n",
       "                                                                              ..\n",
       "Twitter Starts Rolling Out The New Profile Look — Here's How To Get It Now     1\n",
       "Wall Street Ends Winning Streak on AT&T Results, Factory Data                  1\n",
       "Japan institute finds stem-cell study misconduct                               1\n",
       "Early Buzz: 'Dawn of the Planet of the Apes' Best Movie of Summer?             1\n",
       "Get ready for the first eclipse of the year                                    1\n",
       "Name: Title, Length: 406452, dtype: int64"
      ]
     },
     "execution_count": 8,
     "metadata": {},
     "output_type": "execute_result"
    }
   ],
   "source": [
    "df['Title'].value_counts()"
   ]
  },
  {
   "cell_type": "code",
   "execution_count": 9,
   "metadata": {},
   "outputs": [],
   "source": [
    "class TextAssembler:\n",
    "    def __init__(self, titles, vocab_length, min_letters):\n",
    "        self.titles = titles\n",
    "        self.custom_pipeline = [\n",
    "                preprocessing.fillna,\n",
    "                preprocessing.lowercase,\n",
    "                preprocessing.remove_punctuation,\n",
    "                preprocessing.remove_diacritics,\n",
    "                preprocessing.remove_stopwords,\n",
    "                preprocessing.remove_whitespace,\n",
    "                preprocessing.stem\n",
    "            ]\n",
    "        self.min_letters = min_letters #Minimum number of letters a word in vocab dict should contain\n",
    "        #self.PorterStemmer = nltk.stem.PorterStemmer()\n",
    "        self.vocab_length = vocab_length \n",
    "        #self.clean_text = self.cleanText(titles)\n",
    "        #self.clean_split_text = self.splitText(self.clean_text)\n",
    "        self.stemmed_text = self.cleanText(titles) #self.stemText(self.clean_split_text)\n",
    "        self.word_counts = self.wordFrequencies()\n",
    "        self.words_feature_vector = self.featureVector(self.stemmed_text)\n",
    "        \n",
    "    \n",
    "    def cleanText(self, titles):\n",
    "        clean_text = hero.clean(titles, pipeline=self.custom_pipeline)\n",
    "        clean_text = clean_text.str.replace(\"\\d+\", \" {num} \", regex=True)     \n",
    "        clean_text = clean_text.str.split()\n",
    "        return clean_text\n",
    "    \n",
    "    @staticmethod\n",
    "    def splitText(clean_text):\n",
    "        return clean_text.str.split()\n",
    "        \n",
    "    def stemText(self, clean_split_text):\n",
    "        return clean_split_text.apply(self._stemmer)\n",
    "    \n",
    "    def _stemmer(self, sentence):\n",
    "        stemmed_words = []\n",
    "        for word in sentence:\n",
    "            stemmed_words.append(self.PorterStemmer.stem(word))\n",
    "        return stemmed_words\n",
    "    \n",
    "    def wordFrequencies(self):\n",
    "        counter = Counter()\n",
    "        self.stemmed_text.apply(lambda x: counter.update(x))\n",
    "        word_counts = pd.DataFrame(data=counter.items(), columns=[\"Word\", \"Count\"]).reset_index(drop=True)\n",
    "        word_counts = word_counts.sort_values(by=\"Count\", ascending=False)\n",
    "        \n",
    "        filt = word_counts['Word'].str.len() >= self.min_letters \n",
    "        word_counts = word_counts[filt][:self.vocab_length]\n",
    "      \n",
    "        return word_counts\n",
    "\n",
    "        \n",
    "    def featureVector(self, stemmed_text):\n",
    "        words_feature_vector = np.zeros((len(stemmed_text), self.vocab_length), dtype=np.uint8)\n",
    "        vocab_dict = {word: index for index, word in enumerate(self.word_counts['Word'])}\n",
    "        row_position = 0    \n",
    "        for sentence in stemmed_text:   \n",
    "            for word in sentence:\n",
    "                if word in vocab_dict:\n",
    "                    words_feature_vector[row_position, vocab_dict[word]] = 1\n",
    "            row_position += 1\n",
    "        return words_feature_vector\n",
    "    \n",
    "    def samplePrepareText(self, titles):\n",
    "        if not isinstance(titles, pd.Series):\n",
    "            titles = pd.Series(titles)\n",
    "       \n",
    "        stemmed_text = self.cleanText(clean_split_text)\n",
    "        return stemmed_text\n",
    "        "
   ]
  },
  {
   "cell_type": "code",
   "execution_count": 10,
   "metadata": {},
   "outputs": [],
   "source": [
    "hot_encodings = {\n",
    "    \"b\": 0,\n",
    "    \"t\": 1,\n",
    "    \"e\": 2,\n",
    "    \"m\": 3,\n",
    "    \n",
    "}"
   ]
  },
  {
   "cell_type": "code",
   "execution_count": 11,
   "metadata": {},
   "outputs": [],
   "source": [
    "titles = df['Title']"
   ]
  },
  {
   "cell_type": "code",
   "execution_count": 12,
   "metadata": {
    "scrolled": true
   },
   "outputs": [],
   "source": [
    "ta = TextAssembler(titles, 10000, 5)"
   ]
  },
  {
   "cell_type": "code",
   "execution_count": 13,
   "metadata": {
    "scrolled": false
   },
   "outputs": [
    {
     "data": {
      "text/plain": [
       "array([[0, 0, 0, ..., 0, 0, 0],\n",
       "       [0, 0, 0, ..., 0, 0, 0],\n",
       "       [0, 0, 0, ..., 0, 0, 0],\n",
       "       ...,\n",
       "       [0, 0, 0, ..., 0, 0, 0],\n",
       "       [1, 0, 0, ..., 0, 0, 0],\n",
       "       [1, 0, 0, ..., 0, 0, 0]], dtype=uint8)"
      ]
     },
     "execution_count": 13,
     "metadata": {},
     "output_type": "execute_result"
    }
   ],
   "source": [
    "ta.words_feature_vector"
   ]
  },
  {
   "cell_type": "code",
   "execution_count": 14,
   "metadata": {},
   "outputs": [
    {
     "data": {
      "text/html": [
       "<div>\n",
       "<style scoped>\n",
       "    .dataframe tbody tr th:only-of-type {\n",
       "        vertical-align: middle;\n",
       "    }\n",
       "\n",
       "    .dataframe tbody tr th {\n",
       "        vertical-align: top;\n",
       "    }\n",
       "\n",
       "    .dataframe thead th {\n",
       "        text-align: right;\n",
       "    }\n",
       "</style>\n",
       "<table border=\"1\" class=\"dataframe\">\n",
       "  <thead>\n",
       "    <tr style=\"text-align: right;\">\n",
       "      <th></th>\n",
       "      <th>Word</th>\n",
       "      <th>Count</th>\n",
       "    </tr>\n",
       "  </thead>\n",
       "  <tbody>\n",
       "    <tr>\n",
       "      <th>32</th>\n",
       "      <td>{num}</td>\n",
       "      <td>149519</td>\n",
       "    </tr>\n",
       "    <tr>\n",
       "      <th>1657</th>\n",
       "      <td>googl</td>\n",
       "      <td>12613</td>\n",
       "    </tr>\n",
       "    <tr>\n",
       "      <th>226</th>\n",
       "      <td>report</td>\n",
       "      <td>10272</td>\n",
       "    </tr>\n",
       "    <tr>\n",
       "      <th>1176</th>\n",
       "      <td>video</td>\n",
       "      <td>10150</td>\n",
       "    </tr>\n",
       "    <tr>\n",
       "      <th>283</th>\n",
       "      <td>first</td>\n",
       "      <td>8433</td>\n",
       "    </tr>\n",
       "    <tr>\n",
       "      <th>...</th>\n",
       "      <td>...</td>\n",
       "      <td>...</td>\n",
       "    </tr>\n",
       "    <tr>\n",
       "      <th>28634</th>\n",
       "      <td>potion</td>\n",
       "      <td>7</td>\n",
       "    </tr>\n",
       "    <tr>\n",
       "      <th>11002</th>\n",
       "      <td>homebuy</td>\n",
       "      <td>7</td>\n",
       "    </tr>\n",
       "    <tr>\n",
       "      <th>19269</th>\n",
       "      <td>shipka</td>\n",
       "      <td>7</td>\n",
       "    </tr>\n",
       "    <tr>\n",
       "      <th>19264</th>\n",
       "      <td>footnot</td>\n",
       "      <td>7</td>\n",
       "    </tr>\n",
       "    <tr>\n",
       "      <th>32522</th>\n",
       "      <td>lakefront</td>\n",
       "      <td>7</td>\n",
       "    </tr>\n",
       "  </tbody>\n",
       "</table>\n",
       "<p>10000 rows × 2 columns</p>\n",
       "</div>"
      ],
      "text/plain": [
       "            Word   Count\n",
       "32         {num}  149519\n",
       "1657       googl   12613\n",
       "226       report   10272\n",
       "1176       video   10150\n",
       "283        first    8433\n",
       "...          ...     ...\n",
       "28634     potion       7\n",
       "11002    homebuy       7\n",
       "19269     shipka       7\n",
       "19264    footnot       7\n",
       "32522  lakefront       7\n",
       "\n",
       "[10000 rows x 2 columns]"
      ]
     },
     "execution_count": 14,
     "metadata": {},
     "output_type": "execute_result"
    }
   ],
   "source": [
    "ta.word_counts"
   ]
  },
  {
   "cell_type": "code",
   "execution_count": 15,
   "metadata": {},
   "outputs": [],
   "source": [
    "from sklearn.model_selection import train_test_split"
   ]
  },
  {
   "cell_type": "code",
   "execution_count": 16,
   "metadata": {},
   "outputs": [],
   "source": [
    "X_train, X_test, y_train, y_test = train_test_split(ta.words_feature_vector, df['Category'].reset_index(drop=True).apply(lambda x: hot_encodings[x]), \n",
    "                                                    test_size=0.3, random_state=2)"
   ]
  },
  {
   "cell_type": "code",
   "execution_count": 17,
   "metadata": {
    "scrolled": true
   },
   "outputs": [
    {
     "data": {
      "text/plain": [
       "array([[0, 0, 0, ..., 0, 0, 0],\n",
       "       [0, 0, 0, ..., 0, 0, 0],\n",
       "       [0, 0, 0, ..., 0, 0, 0],\n",
       "       ...,\n",
       "       [0, 0, 0, ..., 0, 0, 0],\n",
       "       [0, 0, 0, ..., 0, 0, 0],\n",
       "       [1, 0, 0, ..., 0, 0, 0]], dtype=uint8)"
      ]
     },
     "execution_count": 17,
     "metadata": {},
     "output_type": "execute_result"
    }
   ],
   "source": [
    "X_train"
   ]
  },
  {
   "cell_type": "code",
   "execution_count": 18,
   "metadata": {},
   "outputs": [],
   "source": [
    "from tensorflow import keras\n",
    "from tensorflow.keras import layers"
   ]
  },
  {
   "cell_type": "code",
   "execution_count": 19,
   "metadata": {},
   "outputs": [
    {
     "data": {
      "text/plain": [
       "10000"
      ]
     },
     "execution_count": 19,
     "metadata": {},
     "output_type": "execute_result"
    }
   ],
   "source": [
    "ta.vocab_length"
   ]
  },
  {
   "cell_type": "code",
   "execution_count": 20,
   "metadata": {},
   "outputs": [
    {
     "name": "stdout",
     "output_type": "stream",
     "text": [
      "Model: \"sequential\"\n",
      "_________________________________________________________________\n",
      "Layer (type)                 Output Shape              Param #   \n",
      "=================================================================\n",
      "dense (Dense)                (None, 50)                500050    \n",
      "_________________________________________________________________\n",
      "dense_1 (Dense)              (None, 50)                2550      \n",
      "_________________________________________________________________\n",
      "dense_2 (Dense)              (None, 4)                 204       \n",
      "=================================================================\n",
      "Total params: 502,804\n",
      "Trainable params: 502,804\n",
      "Non-trainable params: 0\n",
      "_________________________________________________________________\n"
     ]
    }
   ],
   "source": [
    "model = keras.Sequential(\n",
    "    [\n",
    "        layers.Dense(50, input_shape=(ta.vocab_length,), activation=\"relu\"),      \n",
    "        layers.Dense(50, activation=\"relu\"),   \n",
    "        layers.Dense(4, activation=\"sigmoid\")       \n",
    "    ]\n",
    ")\n",
    "\n",
    "model.summary()"
   ]
  },
  {
   "cell_type": "code",
   "execution_count": 21,
   "metadata": {},
   "outputs": [],
   "source": [
    "model.compile(optimizer=\"adam\", loss=\"sparse_categorical_crossentropy\", metrics=['accuracy'])"
   ]
  },
  {
   "cell_type": "code",
   "execution_count": 22,
   "metadata": {},
   "outputs": [
    {
     "name": "stdout",
     "output_type": "stream",
     "text": [
      "Epoch 1/5\n",
      "9238/9238 [==============================] - 29s 3ms/step - loss: 0.3152 - accuracy: 0.8832 - val_loss: 0.2581 - val_accuracy: 0.9052\n",
      "Epoch 2/5\n",
      "9238/9238 [==============================] - 27s 3ms/step - loss: 0.2280 - accuracy: 0.9154 - val_loss: 0.2428 - val_accuracy: 0.9120\n",
      "Epoch 3/5\n",
      "9238/9238 [==============================] - 25s 3ms/step - loss: 0.1952 - accuracy: 0.9275 - val_loss: 0.2413 - val_accuracy: 0.9155\n",
      "Epoch 4/5\n",
      "9238/9238 [==============================] - 26s 3ms/step - loss: 0.1702 - accuracy: 0.9370 - val_loss: 0.2435 - val_accuracy: 0.9167\n",
      "Epoch 5/5\n",
      "9238/9238 [==============================] - 25s 3ms/step - loss: 0.1496 - accuracy: 0.9439 - val_loss: 0.2524 - val_accuracy: 0.9167\n"
     ]
    },
    {
     "data": {
      "text/plain": [
       "<tensorflow.python.keras.callbacks.History at 0x20320366940>"
      ]
     },
     "execution_count": 22,
     "metadata": {},
     "output_type": "execute_result"
    }
   ],
   "source": [
    "model.fit(x=X_train, y=y_train, validation_data=(X_test, y_test), epochs=5)"
   ]
  },
  {
   "cell_type": "code",
   "execution_count": 35,
   "metadata": {
    "scrolled": false
   },
   "outputs": [
    {
     "name": "stdout",
     "output_type": "stream",
     "text": [
      "[[0 0 0 ... 0 0 0]]\n",
      "1\n"
     ]
    },
    {
     "data": {
      "text/html": [
       "<div>\n",
       "<style scoped>\n",
       "    .dataframe tbody tr th:only-of-type {\n",
       "        vertical-align: middle;\n",
       "    }\n",
       "\n",
       "    .dataframe tbody tr th {\n",
       "        vertical-align: top;\n",
       "    }\n",
       "\n",
       "    .dataframe thead th {\n",
       "        text-align: right;\n",
       "    }\n",
       "</style>\n",
       "<table border=\"1\" class=\"dataframe\">\n",
       "  <thead>\n",
       "    <tr style=\"text-align: right;\">\n",
       "      <th></th>\n",
       "      <th>147216</th>\n",
       "    </tr>\n",
       "  </thead>\n",
       "  <tbody>\n",
       "    <tr>\n",
       "      <th>Title</th>\n",
       "      <td>Comcast Today: Will Wifi-Based Phone Service W...</td>\n",
       "    </tr>\n",
       "    <tr>\n",
       "      <th>URL</th>\n",
       "      <td>http://www.phillymag.com/news/2014/04/21/wall-...</td>\n",
       "    </tr>\n",
       "    <tr>\n",
       "      <th>Publisher</th>\n",
       "      <td>Philadelphia Magazine \\(blog\\)</td>\n",
       "    </tr>\n",
       "    <tr>\n",
       "      <th>Category</th>\n",
       "      <td>t</td>\n",
       "    </tr>\n",
       "    <tr>\n",
       "      <th>Story</th>\n",
       "      <td>dSDKSorh20cSzoMexWgMtCXFPwfzM</td>\n",
       "    </tr>\n",
       "    <tr>\n",
       "      <th>Hostname</th>\n",
       "      <td>www.phillymag.com</td>\n",
       "    </tr>\n",
       "    <tr>\n",
       "      <th>Timestamp</th>\n",
       "      <td>1398165486258</td>\n",
       "    </tr>\n",
       "  </tbody>\n",
       "</table>\n",
       "</div>"
      ],
      "text/plain": [
       "                                                      147216\n",
       "Title      Comcast Today: Will Wifi-Based Phone Service W...\n",
       "URL        http://www.phillymag.com/news/2014/04/21/wall-...\n",
       "Publisher                     Philadelphia Magazine \\(blog\\)\n",
       "Category                                                   t\n",
       "Story                          dSDKSorh20cSzoMexWgMtCXFPwfzM\n",
       "Hostname                                   www.phillymag.com\n",
       "Timestamp                                      1398165486258"
      ]
     },
     "execution_count": 35,
     "metadata": {},
     "output_type": "execute_result"
    }
   ],
   "source": [
    "random_sample = np.random.randint(400000)\n",
    "X = ta.words_feature_vector[random_sample].reshape(1, -1)\n",
    "y = df.iloc[random_sample]['Category']\n",
    "y = hot_encodings[y]\n",
    "print(X)\n",
    "print(y)\n",
    "df.iloc[random_sample].to_frame()"
   ]
  },
  {
   "cell_type": "code",
   "execution_count": null,
   "metadata": {},
   "outputs": [],
   "source": [
    "feature_vector = ta.featureVector(stemmed_text)\n",
    "print(feature_vector)"
   ]
  },
  {
   "cell_type": "code",
   "execution_count": 29,
   "metadata": {},
   "outputs": [],
   "source": [
    "categories = [\"Business\", \"Science and Technology\", \"Entertainment\", \"Health\"]"
   ]
  },
  {
   "cell_type": "code",
   "execution_count": 33,
   "metadata": {},
   "outputs": [
    {
     "name": "stdout",
     "output_type": "stream",
     "text": [
      "Probabilities:\n",
      "0 Business: 4%\n",
      "1 Science and Technology: 0%\n",
      "2 Entertainment: 0%\n",
      "3 Health: 0%\n",
      "\n",
      "Prediction: 0 Business\n",
      "Correct answer: 0 Business\n"
     ]
    }
   ],
   "source": [
    "print(\"Probabilities:\")\n",
    "for index, probability in enumerate(model.predict(X)[0]):\n",
    "    print(f\"{index} {categories[index]}: {int(round(probability * 100))}%\")\n",
    "prediction = model.predict(X).argmax()\n",
    "print()\n",
    "print(f\"Prediction: {prediction} {categories[prediction]}\")\n",
    "print(f\"Correct answer: {y} {categories[y]}\")"
   ]
  },
  {
   "cell_type": "code",
   "execution_count": null,
   "metadata": {},
   "outputs": [],
   "source": []
  }
 ],
 "metadata": {
  "kernelspec": {
   "display_name": "Python 3",
   "language": "python",
   "name": "python3"
  },
  "language_info": {
   "codemirror_mode": {
    "name": "ipython",
    "version": 3
   },
   "file_extension": ".py",
   "mimetype": "text/x-python",
   "name": "python",
   "nbconvert_exporter": "python",
   "pygments_lexer": "ipython3",
   "version": "3.7.3"
  }
 },
 "nbformat": 4,
 "nbformat_minor": 4
}
